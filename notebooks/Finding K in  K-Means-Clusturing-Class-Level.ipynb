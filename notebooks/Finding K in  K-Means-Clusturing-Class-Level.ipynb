{
 "cells": [
  {
   "cell_type": "markdown",
   "metadata": {},
   "source": [
    "# Finding K in K-Means\n",
    "\n",
    "So when applying K-Means Clustring, one comes at a point where he/she has to decide how many cluster they want, now one can not go and tell 2,3, or 4 clusters there should be a some evidence that clustering the data into *'k'* clusters will yeild good results. So I met this problem, after searching for what can be done about this problem I stumble upon a something called **'Silhouette Analysis'**\n",
    "\n",
    "### Silhouette Analysis\n",
    "\n",
    "Silhouette Analysis takes into considration of how well a particular data point lies within a given cluster. So lets take an example to understand how this works, Say we are using K-Means Clustring for *'k'* number of clusters. Now for a data point *'i'*, we define average distance from all points in the same cluster as *avg(i) = a(i)*, so we can interpret *a(i)* as measure of how well that point belongs in the cluster or to put it simply how well that point belongs in that cluster, so smaller the value, better the assignment of that data point to that cluster. Similarly, lets say *b(i)* is the average dissimlarity, that means *b(i)* the lowest average distance of data point *i*  to all points in any other cluster, of which *i* is not a member of. The cluster with this lowest average dissimilarity is said to be the \"neighbouring cluster\" of *i* because it is the next best fit cluster for point *i*"
   ]
  },
  {
   "cell_type": "code",
   "execution_count": 1,
   "metadata": {},
   "outputs": [
    {
     "data": {
      "text/latex": [
       "$$s(i) = \\frac{b(i)-a(i)}{max(b(i),a(i))}$$"
      ],
      "text/plain": [
       "<IPython.core.display.Math object>"
      ]
     },
     "execution_count": 1,
     "metadata": {},
     "output_type": "execute_result"
    }
   ],
   "source": [
    "from IPython.display import Math\n",
    "Math(r's(i) = \\frac{b(i)-a(i)}{max(b(i),a(i))}')"
   ]
  },
  {
   "cell_type": "code",
   "execution_count": 1,
   "metadata": {},
   "outputs": [],
   "source": [
    "from sklearn.feature_extraction.text import CountVectorizer\n",
    "from sklearn.feature_extraction.text import TfidfVectorizer\n",
    "from sklearn.cluster import KMeans\n",
    "import numpy as np\n",
    "from sklearn.metrics import silhouette_score, adjusted_rand_score"
   ]
  },
  {
   "cell_type": "code",
   "execution_count": 21,
   "metadata": {},
   "outputs": [],
   "source": [
    "import pickle \n",
    "\n",
    "with open('/home/jay/class-level-docs.pkl', 'rb') as docs:\n",
    "    class_docs =pickle.load(docs)\n",
    "    \n",
    "with open('/home/jay/class-level-label.pkl', 'rb') as labs:\n",
    "    class_label = pickle.load(labs)"
   ]
  },
  {
   "cell_type": "code",
   "execution_count": 22,
   "metadata": {},
   "outputs": [
    {
     "data": {
      "text/plain": [
       "['employment_and_social_policy',\n",
       " 'audiovisual_and_media',\n",
       " 'institutional_affairs',\n",
       " 'enlargement',\n",
       " 'customs',\n",
       " 'enterprise',\n",
       " 'internal_market',\n",
       " 'humanitarian_aid',\n",
       " 'justice_freedom_security',\n",
       " 'energy',\n",
       " 'consumers',\n",
       " 'maritime_affairs_and_fisheries',\n",
       " 'foreign_and_security_policy',\n",
       " 'information_society',\n",
       " 'education_training_youth',\n",
       " 'human_rights',\n",
       " 'external_relations',\n",
       " 'development',\n",
       " 'agriculture',\n",
       " 'food_safety',\n",
       " 'fight_against_fraud',\n",
       " 'economic_and_monetary_affairs',\n",
       " 'competition',\n",
       " 'transport',\n",
       " 'culture',\n",
       " 'environment',\n",
       " 'public_health',\n",
       " 'taxation',\n",
       " 'regional_policy',\n",
       " 'external_trade',\n",
       " 'research_innovation',\n",
       " 'budget']"
      ]
     },
     "execution_count": 22,
     "metadata": {},
     "output_type": "execute_result"
    }
   ],
   "source": [
    "class_label"
   ]
  },
  {
   "cell_type": "code",
   "execution_count": 29,
   "metadata": {},
   "outputs": [
    {
     "name": "stdout",
     "output_type": "stream",
     "text": [
      "(32, 200000)\n"
     ]
    }
   ],
   "source": [
    "# running the k-means for 32 clusters\n",
    "# creating tf-idf matrix\n",
    "\n",
    "tfidf_matrix_constructor = TfidfVectorizer(max_df=0.8, max_features=200000, min_df=0.2, ngram_range=(1,3))\n",
    "\n",
    "tfidf_matrix = tfidf_matrix_constructor.fit_transform(class_docs)\n",
    "\n",
    "# printing the shape of the resultant matrix to ensure I am right\n",
    "print(tfidf_matrix.shape)"
   ]
  },
  {
   "cell_type": "code",
   "execution_count": null,
   "metadata": {},
   "outputs": [],
   "source": [
    "with open('/home/jay/k-find/pickles/tf-idf-class-level.pkl', 'wb') as tf:\n",
    "    pickle.dump(tfidf_matrix, tf)"
   ]
  },
  {
   "cell_type": "code",
   "execution_count": 4,
   "metadata": {},
   "outputs": [
    {
     "name": "stdout",
     "output_type": "stream",
     "text": [
      "The silhouette score for 2 clusters is 0.5044159597205802\n",
      "The silhouette score for 3 clusters is 0.5377674475595976\n",
      "The silhouette score for 4 clusters is 0.5428150072050602\n",
      "The silhouette score for 5 clusters is 0.5675084132188464\n",
      "The silhouette score for 6 clusters is 0.5583472230011157\n",
      "The silhouette score for 7 clusters is 0.557273945756692\n",
      "The silhouette score for 8 clusters is 0.5789109648812476\n",
      "The silhouette score for 9 clusters is 0.6061132289742661\n",
      "The silhouette score for 10 clusters is 0.6201850630464807\n",
      "The silhouette score for 11 clusters is 0.6130083777211174\n",
      "The silhouette score for 12 clusters is 0.6004463052048459\n",
      "The silhouette score for 13 clusters is 0.5802146625551772\n",
      "The silhouette score for 14 clusters is 0.5578174584974451\n",
      "The silhouette score for 15 clusters is 0.5455435385700866\n",
      "The silhouette score for 16 clusters is 0.5074028524441978\n",
      "The silhouette score for 17 clusters is 0.49496006806149984\n",
      "The silhouette score for 18 clusters is 0.46543110264186144\n",
      "The silhouette score for 19 clusters is 0.42043177189275455\n",
      "The silhouette score for 20 clusters is 0.41422638972430603\n",
      "The silhouette score for 21 clusters is 0.4069500443571648\n",
      "The silhouette score for 22 clusters is 0.3585535712163157\n",
      "The silhouette score for 23 clusters is 0.3364079139633299\n",
      "The silhouette score for 24 clusters is 0.3112530735852068\n",
      "The silhouette score for 25 clusters is 0.25831222146097743\n",
      "The silhouette score for 26 clusters is 0.21875\n",
      "The silhouette score for 27 clusters is 0.21875\n",
      "The silhouette score for 28 clusters is 0.21875\n",
      "The silhouette score for 29 clusters is 0.21875\n",
      "The silhouette score for 30 clusters is 0.21875\n",
      "The silhouette score for 31 clusters is 0.21875\n",
      "The silhouette score for 32 clusters is 0.21875\n"
     ]
    }
   ],
   "source": [
    "# now applying k-means for range 1-32 and calculating silhouette_score for each cluster\n",
    "\n",
    "for k in range(2 ,33):\n",
    "    \n",
    "    # define k-means constructor\n",
    "    kmeans = KMeans(n_clusters=k,random_state=10)\n",
    "    \n",
    "    cluster_labels = kmeans.fit_predict(tfidf_matrix.toarray())\n",
    "    \n",
    "    # Calculating silhouette_score for k\n",
    "    \n",
    "    score = silhouette_score(tfidf_matrix.toarray(), cluster_labels, random_state=10)\n",
    "    print(\"The silhouette score for {} clusters is {}\".format(k,score))"
   ]
  },
  {
   "cell_type": "code",
   "execution_count": 9,
   "metadata": {},
   "outputs": [],
   "source": [
    "# The elbow analysis \n",
    "\n",
    "# define list to store cluster errors\n",
    "\n",
    "cluster_errors = []\n",
    "\n",
    "for k in range(1 ,33):\n",
    "    \n",
    "    # define k-means constructor\n",
    "    kmeans = KMeans(n_clusters=k,random_state=10,n_jobs=-1)\n",
    "    \n",
    "    cluster_ = kmeans.fit(tfidf_matrix.toarray())\n",
    "    \n",
    "    cluster_errors.append(cluster_.inertia_)"
   ]
  },
  {
   "cell_type": "code",
   "execution_count": 10,
   "metadata": {},
   "outputs": [],
   "source": [
    "import matplotlib.pyplot as plt\n",
    "%matplotlib inline"
   ]
  },
  {
   "cell_type": "code",
   "execution_count": 11,
   "metadata": {},
   "outputs": [
    {
     "data": {
      "text/plain": [
       "32"
      ]
     },
     "execution_count": 11,
     "metadata": {},
     "output_type": "execute_result"
    }
   ],
   "source": [
    "len(cluster_errors)"
   ]
  },
  {
   "cell_type": "code",
   "execution_count": 12,
   "metadata": {},
   "outputs": [
    {
     "data": {
      "image/png": "[encoded data removed]",
      "text/plain": [
       "<matplotlib.figure.Figure at 0x7ff59c23d080>"
      ]
     },
     "metadata": {},
     "output_type": "display_data"
    }
   ],
   "source": [
    "plt.figure(figsize=(12,6))\n",
    "plt.plot(range(1,33), cluster_errors, marker = \"o\" )\n",
    "a=plt.xticks(np.arange(33))\n",
    "plt.grid()"
   ]
  },
  {
   "cell_type": "markdown",
   "metadata": {},
   "source": [
    "# Clustering\n",
    "\n",
    "The first one is based on the silhouette score that gave the number of clusters to be 10, but the clustering is not as good as expected. The distribution of classes doesnt make a lot of sense to to me. "
   ]
  },
  {
   "cell_type": "code",
   "execution_count": 16,
   "metadata": {},
   "outputs": [],
   "source": [
    "kmeas = KMeans(n_clusters=10, random_state=10,n_jobs=-1)\n"
   ]
  },
  {
   "cell_type": "code",
   "execution_count": 17,
   "metadata": {},
   "outputs": [],
   "source": [
    "cluster_label =kmeas.fit(tfidf_matrix.toarray())"
   ]
  },
  {
   "cell_type": "code",
   "execution_count": 28,
   "metadata": {},
   "outputs": [
    {
     "name": "stdout",
     "output_type": "stream",
     "text": [
      "employment_and_social_policy 1\n",
      "audiovisual_and_media 1\n",
      "institutional_affairs 1\n",
      "enlargement 1\n",
      "customs 1\n",
      "enterprise 1\n",
      "internal_market 1\n",
      "humanitarian_aid 4\n",
      "justice_freedom_security 9\n",
      "energy 7\n",
      "consumers 7\n",
      "maritime_affairs_and_fisheries 2\n",
      "foreign_and_security_policy 2\n",
      "information_society 2\n",
      "education_training_youth 6\n",
      "human_rights 6\n",
      "external_relations 5\n",
      "development 5\n",
      "agriculture 5\n",
      "food_safety 3\n",
      "fight_against_fraud 3\n",
      "economic_and_monetary_affairs 8\n",
      "competition 8\n",
      "transport 0\n",
      "culture 0\n",
      "environment 0\n",
      "public_health 0\n",
      "taxation 0\n",
      "regional_policy 0\n",
      "external_trade 0\n",
      "research_innovation 0\n",
      "budget 0\n"
     ]
    }
   ],
   "source": [
    "for i, j in zip(class_label, cluster_label.labels_):\n",
    "    print(i,j)"
   ]
  },
  {
   "cell_type": "code",
   "execution_count": 31,
   "metadata": {},
   "outputs": [
    {
     "data": {
      "text/plain": [
       "Counter({0: 9, 1: 7, 2: 3, 3: 2, 4: 1, 5: 3, 6: 2, 7: 2, 8: 2, 9: 1})"
      ]
     },
     "execution_count": 31,
     "metadata": {},
     "output_type": "execute_result"
    }
   ],
   "source": [
    "Counter(cluster_label.labels_)"
   ]
  },
  {
   "cell_type": "markdown",
   "metadata": {},
   "source": [
    "# Clustering Based on Elbow Analysis\n",
    "\n",
    "The elbow analysis suggested that number of clusters should be between 3 and 5, however it was not clear that what it should be. So performed on 3,4,5. The results are down below. I think 3 cluster for class level clustering makes more sense as there is some sense to it. The cluster of classes itself makes more sense than in 4 and 5"
   ]
  },
  {
   "cell_type": "code",
   "execution_count": 32,
   "metadata": {},
   "outputs": [],
   "source": [
    "# using elbow score\n",
    "\n",
    "elbow = KMeans(n_clusters=3, random_state=10,n_jobs=-1)"
   ]
  },
  {
   "cell_type": "code",
   "execution_count": 33,
   "metadata": {},
   "outputs": [],
   "source": [
    "elbow_model = elbow.fit(tfidf_matrix.toarray())"
   ]
  },
  {
   "cell_type": "code",
   "execution_count": 34,
   "metadata": {},
   "outputs": [
    {
     "name": "stdout",
     "output_type": "stream",
     "text": [
      "employment_and_social_policy 1\n",
      "audiovisual_and_media 1\n",
      "institutional_affairs 1\n",
      "enlargement 1\n",
      "customs 1\n",
      "enterprise 1\n",
      "internal_market 1\n",
      "humanitarian_aid 1\n",
      "justice_freedom_security 2\n",
      "energy 2\n",
      "consumers 2\n",
      "maritime_affairs_and_fisheries 2\n",
      "foreign_and_security_policy 2\n",
      "information_society 2\n",
      "education_training_youth 2\n",
      "human_rights 2\n",
      "external_relations 2\n",
      "development 2\n",
      "agriculture 2\n",
      "food_safety 0\n",
      "fight_against_fraud 0\n",
      "economic_and_monetary_affairs 0\n",
      "competition 0\n",
      "transport 0\n",
      "culture 0\n",
      "environment 0\n",
      "public_health 0\n",
      "taxation 0\n",
      "regional_policy 0\n",
      "external_trade 0\n",
      "research_innovation 0\n",
      "budget 0\n"
     ]
    }
   ],
   "source": [
    "for i, j in zip(class_label, elbow_model.labels_):\n",
    "    print(i,j)"
   ]
  },
  {
   "cell_type": "code",
   "execution_count": 35,
   "metadata": {},
   "outputs": [],
   "source": [
    "elbow_4 = KMeans(n_clusters=4, random_state=10,n_jobs=-1)\n",
    "elbow_model_4 = elbow_4.fit(tfidf_matrix.toarray())"
   ]
  },
  {
   "cell_type": "code",
   "execution_count": 36,
   "metadata": {},
   "outputs": [
    {
     "name": "stdout",
     "output_type": "stream",
     "text": [
      "employment_and_social_policy 0\n",
      "audiovisual_and_media 0\n",
      "institutional_affairs 0\n",
      "enlargement 0\n",
      "customs 0\n",
      "enterprise 0\n",
      "internal_market 0\n",
      "humanitarian_aid 0\n",
      "justice_freedom_security 2\n",
      "energy 2\n",
      "consumers 2\n",
      "maritime_affairs_and_fisheries 2\n",
      "foreign_and_security_policy 2\n",
      "information_society 2\n",
      "education_training_youth 2\n",
      "human_rights 2\n",
      "external_relations 1\n",
      "development 1\n",
      "agriculture 1\n",
      "food_safety 1\n",
      "fight_against_fraud 1\n",
      "economic_and_monetary_affairs 1\n",
      "competition 1\n",
      "transport 3\n",
      "culture 3\n",
      "environment 3\n",
      "public_health 3\n",
      "taxation 3\n",
      "regional_policy 3\n",
      "external_trade 3\n",
      "research_innovation 3\n",
      "budget 3\n"
     ]
    }
   ],
   "source": [
    "for i, j in zip(class_label, elbow_model_4.labels_):\n",
    "    print(i,j)"
   ]
  },
  {
   "cell_type": "code",
   "execution_count": 37,
   "metadata": {},
   "outputs": [
    {
     "name": "stdout",
     "output_type": "stream",
     "text": [
      "employment_and_social_policy 0\n",
      "audiovisual_and_media 0\n",
      "institutional_affairs 0\n",
      "enlargement 0\n",
      "customs 0\n",
      "enterprise 0\n",
      "internal_market 0\n",
      "humanitarian_aid 4\n",
      "justice_freedom_security 2\n",
      "energy 2\n",
      "consumers 2\n",
      "maritime_affairs_and_fisheries 2\n",
      "foreign_and_security_policy 2\n",
      "information_society 2\n",
      "education_training_youth 2\n",
      "human_rights 2\n",
      "external_relations 1\n",
      "development 1\n",
      "agriculture 1\n",
      "food_safety 1\n",
      "fight_against_fraud 1\n",
      "economic_and_monetary_affairs 1\n",
      "competition 1\n",
      "transport 3\n",
      "culture 3\n",
      "environment 3\n",
      "public_health 3\n",
      "taxation 3\n",
      "regional_policy 3\n",
      "external_trade 3\n",
      "research_innovation 3\n",
      "budget 3\n"
     ]
    }
   ],
   "source": [
    "elbow_5 = KMeans(n_clusters=5, random_state=10,n_jobs=-1)\n",
    "elbow_model_5 = elbow_5.fit(tfidf_matrix.toarray())\n",
    "for i, j in zip(class_label, elbow_model_5.labels_):\n",
    "    print(i,j)"
   ]
  }
 ],
 "metadata": {
  "kernelspec": {
   "display_name": "Python 3",
   "language": "python",
   "name": "python3"
  },
  "language_info": {
   "codemirror_mode": {
    "name": "ipython",
    "version": 3
   },
   "file_extension": ".py",
   "mimetype": "text/x-python",
   "name": "python",
   "nbconvert_exporter": "python",
   "pygments_lexer": "ipython3",
   "version": "3.6.4"
  }
 },
 "nbformat": 4,
 "nbformat_minor": 2
}
