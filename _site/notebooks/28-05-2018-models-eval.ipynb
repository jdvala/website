{
 "cells": [
  {
   "cell_type": "code",
   "execution_count": 16,
   "metadata": {},
   "outputs": [],
   "source": [
    "import keras\n",
    "import pickle\n",
    "import numpy as np\n",
    "from sklearn.metrics import classification_report, confusion_matrix"
   ]
  },
  {
   "cell_type": "code",
   "execution_count": 2,
   "metadata": {},
   "outputs": [],
   "source": [
    "# Loading the models\n",
    "\n",
    "cluster_1 = keras.models.load_model('cluster-1-model.h5')\n",
    "cluster_2 = keras.models.load_model('cluster-2-model.h5')\n",
    "main_classifier = keras.models.load_model('binary-classifier.h5')\n"
   ]
  },
  {
   "cell_type": "code",
   "execution_count": 5,
   "metadata": {},
   "outputs": [],
   "source": [
    "def load(path):\n",
    "    \"\"\"Returns object stored at a given path\"\"\"\n",
    "    \n",
    "    with open(path, 'rb') as file:\n",
    "        obj = pickle.load(file)\n",
    "    \n",
    "    return obj"
   ]
  },
  {
   "cell_type": "markdown",
   "metadata": {},
   "source": [
    "# Evaluation Cluster 1\n",
    "cluster_1_topics = ['competition', 'development', 'economic_and_monetary_affairs', 'energy', 'enterprise', 'external_trade',\n",
    "                   'external_relations', 'fight_against_fraud', 'foreign_and_security_policy', 'human_rights', \n",
    "                   'humanitarian_aid', 'maritime_affairs_and_fisheries', 'research_innovation', 'taxation']"
   ]
  },
  {
   "cell_type": "code",
   "execution_count": 8,
   "metadata": {},
   "outputs": [],
   "source": [
    "# Loading data for cluster 1\n",
    "\n",
    "train_sent_cluster_1 = load('/home/jay/new-approach-16-jun-2018/cluster-1-train-sent.pkl')\n",
    "train_label_cluster_1 = load('/home/jay/new-approach-16-jun-2018/cluster-1-train-label.pkl')\n",
    "test_sent_cluster_1 = load('/home/jay/new-approach-16-jun-2018/cluster-1-test-sent.pkl')\n",
    "test_label_cluster_1 = load('/home/jay/new-approach-16-jun-2018/cluster-1-test-label.pkl')"
   ]
  },
  {
   "cell_type": "code",
   "execution_count": 12,
   "metadata": {},
   "outputs": [
    {
     "name": "stdout",
     "output_type": "stream",
     "text": [
      "63990/63990 [==============================] - 46s 712us/step\n",
      "Accuracy of classification for Cluster 1 is: 89.96405688370182 %\n"
     ]
    }
   ],
   "source": [
    "# Accuracy of the model\n",
    "acc_cluster_1 =cluster_1.evaluate(np.array(test_sent_cluster_1), test_label_cluster_1)\n",
    "print(\"Accuracy of classification for Cluster 1 is: {} %\".format(acc_cluster_1[1]*100))"
   ]
  },
  {
   "cell_type": "code",
   "execution_count": 14,
   "metadata": {},
   "outputs": [],
   "source": [
    "# Classification report and confusion matrix\n",
    "predictions_cluster_1 = cluster_1.predict(np.array(test_sent_cluster_1))"
   ]
  },
  {
   "cell_type": "code",
   "execution_count": 17,
   "metadata": {},
   "outputs": [
    {
     "name": "stdout",
     "output_type": "stream",
     "text": [
      "             precision    recall  f1-score   support\n",
      "\n",
      "          0       0.92      0.94      0.93      4495\n",
      "          1       0.84      0.85      0.84      8250\n",
      "          2       0.98      0.98      0.98      7621\n",
      "          3       0.88      0.86      0.87      6912\n",
      "          4       0.91      0.88      0.90      4439\n",
      "          5       0.90      0.94      0.92      8378\n",
      "          6       0.73      0.65      0.69      2126\n",
      "          7       0.93      0.93      0.93      2158\n",
      "          8       0.85      0.84      0.84      2313\n",
      "          9       0.92      0.92      0.92      3017\n",
      "         10       0.86      0.83      0.85      1308\n",
      "         11       0.93      0.91      0.92      4300\n",
      "         12       0.87      0.89      0.88      4913\n",
      "         13       0.96      0.96      0.96      3760\n",
      "\n",
      "avg / total       0.90      0.90      0.90     63990\n",
      "\n"
     ]
    }
   ],
   "source": [
    "print(classification_report(np.argmax(test_label_cluster_1, axis=1), np.argmax(predictions_cluster_1, axis=1)))"
   ]
  },
  {
   "cell_type": "code",
   "execution_count": 19,
   "metadata": {},
   "outputs": [
    {
     "name": "stdout",
     "output_type": "stream",
     "text": [
      "[[4235   10   17   16    6    4    3    1    0    2    0  151   44    6]\n",
      " [  10 7002   17  213   10  432  275    1  128   81   45   20   11    5]\n",
      " [  26   11 7486   17    9   16    2    3    4    4    2   10   24    7]\n",
      " [  14  267   19 5966  118  118   32    5   26    4    2   40  284   17]\n",
      " [  14   17   17  153 3921    8  105    1   14    0    2    8  173    6]\n",
      " [   6  169   11   66    3 7903   56   45   15   63    1   27   10    3]\n",
      " [   6  500    3   29  102   76 1376    1   17   12    2    0    2    0]\n",
      " [   3    4    5    9    2   23    1 2007    0    6    2    1    1   94]\n",
      " [   4  115    7   23   14   49   12    1 1934    4   84    1   64    1]\n",
      " [   3  109    7    9    2   60    6    2    6 2765   35    2    6    5]\n",
      " [   1   78    5    1    1    3    1    3   80   41 1092    1    1    0]\n",
      " [ 215   37   19   39   10   42    4    3    3    3    0 3894   19   12]\n",
      " [  46    8   16  248  104   13    2    1   57    2    2    7 4396   11]\n",
      " [  10    5    7   24    7    9    1   87    1    3    0    8    7 3591]]\n"
     ]
    }
   ],
   "source": [
    "print(confusion_matrix(np.argmax(test_label_cluster_1, axis=1), np.argmax(predictions_cluster_1, axis=1)))"
   ]
  },
  {
   "cell_type": "markdown",
   "metadata": {},
   "source": [
    "# Evaluation Cluster 2"
   ]
  },
  {
   "cell_type": "code",
   "execution_count": 20,
   "metadata": {},
   "outputs": [],
   "source": [
    "# Loading data for cluster 1\n",
    "\n",
    "train_sent_cluster_2 = load('/home/jay/new-approach-16-jun-2018/cluster-2-train-sent.pkl')\n",
    "train_label_cluster_2 = load('/home/jay/new-approach-16-jun-2018/cluster-2-train-label.pkl')\n",
    "test_sent_cluster_2 = load('/home/jay/new-approach-16-jun-2018/cluster-2-test-sent.pkl')\n",
    "test_label_cluster_2 = load('/home/jay/new-approach-16-jun-2018/cluster-2-test-label.pkl')"
   ]
  },
  {
   "cell_type": "code",
   "execution_count": 21,
   "metadata": {},
   "outputs": [
    {
     "name": "stdout",
     "output_type": "stream",
     "text": [
      "305925/305925 [==============================] - 206s 673us/step\n",
      "Accuracy of classification for Cluster 2 is: 76.94794475770205 %\n"
     ]
    }
   ],
   "source": [
    "# Accuracy of the model\n",
    "acc_cluster_2 =cluster_2.evaluate(np.array(test_sent_cluster_2), test_label_cluster_2)\n",
    "print(\"Accuracy of classification for Cluster 2 is: {} %\".format(acc_cluster_2[1]*100))"
   ]
  },
  {
   "cell_type": "code",
   "execution_count": 22,
   "metadata": {},
   "outputs": [],
   "source": [
    "# Classification report and confusion matrix\n",
    "predictions_cluster_2 = cluster_2.predict(np.array(test_sent_cluster_2))"
   ]
  },
  {
   "cell_type": "code",
   "execution_count": 23,
   "metadata": {},
   "outputs": [
    {
     "name": "stdout",
     "output_type": "stream",
     "text": [
      "             precision    recall  f1-score   support\n",
      "\n",
      "          0       0.64      0.73      0.68     12024\n",
      "          1       0.67      0.64      0.65      4921\n",
      "          2       0.59      0.95      0.73      3021\n",
      "          3       0.52      0.78      0.63      9363\n",
      "          4       0.53      0.90      0.67      3211\n",
      "          5       0.54      0.94      0.69      5497\n",
      "          6       0.85      0.90      0.87     19555\n",
      "          7       0.87      0.72      0.79     43569\n",
      "          8       0.77      0.78      0.78     15902\n",
      "          9       0.82      0.74      0.78     27703\n",
      "         10       0.69      0.87      0.77      9189\n",
      "         11       0.71      0.82      0.76     12035\n",
      "         12       0.80      0.85      0.83     15769\n",
      "         13       0.80      0.66      0.72     30631\n",
      "         14       0.91      0.76      0.83     48210\n",
      "         15       0.69      0.86      0.77      5490\n",
      "         16       0.72      0.78      0.75     16627\n",
      "         17       0.75      0.77      0.76     23208\n",
      "\n",
      "avg / total       0.79      0.77      0.77    305925\n",
      "\n"
     ]
    }
   ],
   "source": [
    "print(classification_report(np.argmax(test_label_cluster_2, axis=1), np.argmax(predictions_cluster_2, axis=1)))"
   ]
  },
  {
   "cell_type": "code",
   "execution_count": 24,
   "metadata": {},
   "outputs": [
    {
     "name": "stdout",
     "output_type": "stream",
     "text": [
      "[[ 8740    10   718   237    14    19    14    86   236   338   500    63\n",
      "     38    33    24     7   906    41]\n",
      " [    2  3128     2    19  1550     2    17     7    18    10     6   116\n",
      "      9    12     7     4     6     6]\n",
      " [   48     4  2879     4     1     0     1     4     4     2     1     6\n",
      "     40     3    11     2     7     4]\n",
      " [  114    63     2  7345     2     7    21    16     8    40   613   162\n",
      "     11   278    35   245    90   311]\n",
      " [    2   228     4     2  2901     1    19     3    14     3     3     6\n",
      "      2     6    11     3     0     3]\n",
      " [   11     4     2     8    13  5168    12    12    74    11    35     2\n",
      "      7    49    75     2     1    11]\n",
      " [   22   136     9   161   238    34 17509   343   170    56    19   216\n",
      "    128   168   134    24   121    67]\n",
      " [  823   159   223   481    40   186  1414 31250   586   698    95   604\n",
      "    562  1722  1248   388  2325   765]\n",
      " [  382    39    14    10   215   891   121   134 12431   202    11   376\n",
      "    125    43   376     6   420   106]\n",
      " [ 1089    20    20   416    30    47    83   335   397 20494   648   334\n",
      "    149   426   217   248   241  2509]\n",
      " [  174     4     1   518     3    53     3     6     9    99  7958     2\n",
      "     12    64    11   230    10    32]\n",
      " [   74   617     6   295    65    14   117    78   175   105    23  9871\n",
      "    100   241    75    78    29    72]\n",
      " [   97    31   787    42    61    15   117   134   127    57    49   126\n",
      "  13395   109   355    66    37   164]\n",
      " [  173    43    18  2618    74  1166   439   887   169   606   805  1271\n",
      "    234 20067   578   237   292   954]\n",
      " [  119   124    68   378   229  1831   550  1815  1155   470   176   558\n",
      "   1620  1332 36615   427   248   495]\n",
      " [    5     9     3    67     6     1     9    40     5    29   464    25\n",
      "     13    22    34  4724     9    25]\n",
      " [ 1575    15   136   324     9     3   106   553   248   103    22    33\n",
      "     36   114    44     8 13039   259]\n",
      " [  175    42    21  1127    16    57    62   280   263  1607   111   165\n",
      "    209   536   258   106   284 17889]]\n"
     ]
    }
   ],
   "source": [
    "print(confusion_matrix(np.argmax(test_label_cluster_2, axis=1), np.argmax(predictions_cluster_2, axis=1)))"
   ]
  },
  {
   "cell_type": "markdown",
   "metadata": {},
   "source": [
    "# Evaluation Main Classifier"
   ]
  },
  {
   "cell_type": "code",
   "execution_count": 25,
   "metadata": {},
   "outputs": [],
   "source": [
    "# Loading data for cluster 1\n",
    "\n",
    "train_sent_main = load('/home/jay/new-approach-16-jun-2018/cluster-main-train-sent.pkl')\n",
    "train_label_main = load('/home/jay/new-approach-16-jun-2018/cluster-main-train-label.pkl')\n",
    "test_sent_main = load('/home/jay/new-approach-16-jun-2018/cluster-main-test-sent.pkl')\n",
    "test_label_main = load('/home/jay/new-approach-16-jun-2018/cluster-main-test-label.pkl')"
   ]
  },
  {
   "cell_type": "code",
   "execution_count": null,
   "metadata": {},
   "outputs": [],
   "source": [
    "# Accuracy of the model\n",
    "acc_main = main_classifier.evaluate(np.array(test_sent_main), test_label_main)"
   ]
  },
  {
   "cell_type": "code",
   "execution_count": 27,
   "metadata": {},
   "outputs": [
    {
     "name": "stdout",
     "output_type": "stream",
     "text": [
      "Accuracy of classification for main classifier: 88.28240413188146 %\n"
     ]
    }
   ],
   "source": [
    "print(\"Accuracy of classification for main classifier: {} %\".format(acc_main[1]*100))"
   ]
  },
  {
   "cell_type": "code",
   "execution_count": 28,
   "metadata": {},
   "outputs": [],
   "source": [
    "# Classification report and confusion matrix\n",
    "predictions_main = main_classifier.predict(np.array(test_sent_main))"
   ]
  },
  {
   "cell_type": "code",
   "execution_count": 29,
   "metadata": {},
   "outputs": [
    {
     "name": "stdout",
     "output_type": "stream",
     "text": [
      "             precision    recall  f1-score   support\n",
      "\n",
      "          0       0.74      0.94      0.83    128300\n",
      "          1       0.97      0.86      0.91    305603\n",
      "\n",
      "avg / total       0.90      0.88      0.89    433903\n",
      "\n"
     ]
    }
   ],
   "source": [
    "print(classification_report(np.argmax(test_label_main, axis=1), np.argmax(predictions_main, axis=1)))"
   ]
  },
  {
   "cell_type": "code",
   "execution_count": 34,
   "metadata": {},
   "outputs": [
    {
     "name": "stdout",
     "output_type": "stream",
     "text": [
      "[[120527   7773]\n",
      " [ 43070 262533]]\n"
     ]
    }
   ],
   "source": [
    "print(confusion_matrix(np.argmax(test_label_main, axis=1), np.argmax(predictions_main, axis=1)))"
   ]
  },
  {
   "cell_type": "code",
   "execution_count": null,
   "metadata": {},
   "outputs": [],
   "source": []
  }
 ],
 "metadata": {
  "kernelspec": {
   "display_name": "Python 3",
   "language": "python",
   "name": "python3"
  },
  "language_info": {
   "codemirror_mode": {
    "name": "ipython",
    "version": 3
   },
   "file_extension": ".py",
   "mimetype": "text/x-python",
   "name": "python",
   "nbconvert_exporter": "python",
   "pygments_lexer": "ipython3",
   "version": "3.6.4"
  }
 },
 "nbformat": 4,
 "nbformat_minor": 2
}
